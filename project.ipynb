{
 "cells": [
  {
   "cell_type": "code",
   "execution_count": 6,
   "id": "145c26d2",
   "metadata": {},
   "outputs": [],
   "source": [
    "import os\n",
    "from dotenv import load_dotenv \n",
    "load_dotenv()\n",
    "from langchain_core.prompts import ChatPromptTemplate\n",
    "from langchain_core.output_parsers import JsonOutputParser\n",
    "from langchain_openai import ChatOpenAI\n",
    "from langchain_groq import ChatGroq\n",
    "from langchain_core.output_parsers import PydanticOutputParser\n",
    "from pydantic import BaseModel, Field"
   ]
  },
  {
   "cell_type": "code",
   "execution_count": 3,
   "id": "054f3542",
   "metadata": {},
   "outputs": [],
   "source": [
    "os.environ[\"OPENAI_API_KEY\"]=os.getenv(\"OPENAI_API_KEY\")\n",
    "os.environ[\"GROQ_API_KEY\"]=os.getenv(\"GROQ_API_KEY\")\n",
    "#Tracing and Tracking \n",
    "os.environ[\"LANGCHAIN_API_KEY\"]=os.getenv(\"LANGCHAIN_API_KEY\")\n",
    "os.environ[\"LANGCHAIN_PROJECT\"]=os.getenv(\"LANGCHAIN_PROJECT\")  \n",
    "os.environ[\"LANGCHAIN_TRACING_V2\"]= \"ture\""
   ]
  },
  {
   "cell_type": "code",
   "execution_count": 4,
   "id": "035e9880",
   "metadata": {},
   "outputs": [],
   "source": [
    "class Product_detail(BaseModel):\n",
    "    brand: str=Field(description=\"Brand of the product\")\n",
    "    model: str = Field(description=\"Model of the product\")\n",
    "    specs:str= Field(description=\"Specifications of the product\")\n",
    "\n",
    "class Product(BaseModel):\n",
    "   prodect_name: str = Field(description=\"Name of the product\")\n",
    "   product_price: float = Field(description=\"Price of the product\")\n",
    "   product_details: Product_detail = Field(description=\"Details of the product\")\n",
    "   price: str = Field(description=\"Price of the product in string format\")\n",
    "   link: str = Field(description=\"URL Link to the product\")"
   ]
  },
  {
   "cell_type": "code",
   "execution_count": null,
   "id": "006d21dc",
   "metadata": {},
   "outputs": [],
   "source": [
    "#model\n",
    "from langchain_groq import ChatGroq\n",
    "model = ChatGroq(model=\"gemma2-9b-it\", temperature=0.0)\n"
   ]
  },
  {
   "cell_type": "code",
   "execution_count": 7,
   "id": "7ac65d67",
   "metadata": {},
   "outputs": [],
   "source": [
    "#output parser\n",
    "json_parser = JsonOutputParser(pydantic_object=Product)"
   ]
  },
  {
   "cell_type": "code",
   "execution_count": 9,
   "id": "5d3c42e4",
   "metadata": {},
   "outputs": [],
   "source": [
    "promt = ChatPromptTemplate.from_messages([\n",
    "    (\"system\", \"You are an ecommerce search engine assistant who searches for requested products.\"),\n",
    "    (\"user\", \"Answer the user query strictly in the following JSON format without any additional text:\\n{format_instructions}\\nQuery: {query}\")\n",
    "\n",
    "]).partial(format_instructions=json_parser.get_format_instructions())"
   ]
  },
  {
   "cell_type": "code",
   "execution_count": 10,
   "id": "87d8c339",
   "metadata": {},
   "outputs": [],
   "source": [
    "chain = promt | model | json_parser"
   ]
  },
  {
   "cell_type": "code",
   "execution_count": 16,
   "id": "aac38f08",
   "metadata": {},
   "outputs": [
    {
     "name": "stdout",
     "output_type": "stream",
     "text": [
      "{'prodect_name': 'Laptop', 'product_price': 1000.0, 'product_details': {'brand': 'Dell', 'model': 'XPS 13', 'specs': 'Intel Core i7, 16GB RAM, 512GB SSD'}, 'price': '$1000.00', 'link': 'https://www.example.com/dell-xps-13'}\n"
     ]
    }
   ],
   "source": [
    "try: \n",
    "    result =chain.invoke({\"query\": \"Find me a laptop \"})\n",
    "    print(result)\n",
    "except Exception as e:\n",
    "    print(f\"An error occurred: {e}\")\n",
    "    result = None"
   ]
  },
  {
   "cell_type": "code",
   "execution_count": 17,
   "id": "ed2f1eb5",
   "metadata": {},
   "outputs": [
    {
     "data": {
      "text/plain": [
       "'No product found'"
      ]
     },
     "execution_count": 17,
     "metadata": {},
     "output_type": "execute_result"
    }
   ],
   "source": [
    "result.get(\"product_name\", \"No product found\")"
   ]
  },
  {
   "cell_type": "code",
   "execution_count": null,
   "id": "6680504f",
   "metadata": {},
   "outputs": [],
   "source": []
  }
 ],
 "metadata": {
  "kernelspec": {
   "display_name": "Python 3",
   "language": "python",
   "name": "python3"
  },
  "language_info": {
   "codemirror_mode": {
    "name": "ipython",
    "version": 3
   },
   "file_extension": ".py",
   "mimetype": "text/x-python",
   "name": "python",
   "nbconvert_exporter": "python",
   "pygments_lexer": "ipython3",
   "version": "3.13.5"
  }
 },
 "nbformat": 4,
 "nbformat_minor": 5
}
